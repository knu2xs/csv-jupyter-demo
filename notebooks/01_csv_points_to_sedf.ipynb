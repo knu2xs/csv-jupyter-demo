{
 "cells": [
  {
   "cell_type": "markdown",
   "metadata": {},
   "source": [
    "# CSV with coordinates to Spatially Enabled Dataframe\n",
    "\n",
    "Especially with field data collection, many times data arrives as a CSV file with sample locations defined as latitude and longitude coordinates in separate fields. Getting this data into a Spatially Enabled Dataframe and checking the results to be able to perform subsequent analysis, is fairly straightforward."
   ]
  },
  {
   "cell_type": "code",
   "execution_count": 20,
   "metadata": {},
   "outputs": [],
   "source": [
    "# minimal module imports\n",
    "from arcgis.features import GeoAccessor, GeoSeriesAccessor\n",
    "import pandas as pd"
   ]
  },
  {
   "cell_type": "code",
   "execution_count": 21,
   "metadata": {},
   "outputs": [],
   "source": [
    "source_csv = '../data/raw/access_putin.csv'"
   ]
  },
  {
   "cell_type": "markdown",
   "metadata": {},
   "source": [
    "Initially importing the CSV file is no different than before using the Pandas `read_csv` method."
   ]
  },
  {
   "cell_type": "code",
   "execution_count": 22,
   "metadata": {},
   "outputs": [
    {
     "data": {
      "text/html": [
       "<div>\n",
       "<style scoped>\n",
       "    .dataframe tbody tr th:only-of-type {\n",
       "        vertical-align: middle;\n",
       "    }\n",
       "\n",
       "    .dataframe tbody tr th {\n",
       "        vertical-align: top;\n",
       "    }\n",
       "\n",
       "    .dataframe thead th {\n",
       "        text-align: right;\n",
       "    }\n",
       "</style>\n",
       "<table border=\"1\" class=\"dataframe\">\n",
       "  <thead>\n",
       "    <tr style=\"text-align: right;\">\n",
       "      <th></th>\n",
       "      <th>reach_id</th>\n",
       "      <th>CreationDate</th>\n",
       "      <th>Creator</th>\n",
       "      <th>EditDate</th>\n",
       "      <th>Editor</th>\n",
       "      <th>coord_x</th>\n",
       "      <th>coord_y</th>\n",
       "    </tr>\n",
       "  </thead>\n",
       "  <tbody>\n",
       "    <tr>\n",
       "      <th>325</th>\n",
       "      <td>3585</td>\n",
       "      <td>3/12/2019 22:42:57</td>\n",
       "      <td>knu2xs</td>\n",
       "      <td>3/12/2019 22:42:57</td>\n",
       "      <td>knu2xs</td>\n",
       "      <td>-121.501216</td>\n",
       "      <td>47.785591</td>\n",
       "    </tr>\n",
       "    <tr>\n",
       "      <th>125</th>\n",
       "      <td>2190</td>\n",
       "      <td>3/12/2019 20:15:29</td>\n",
       "      <td>knu2xs</td>\n",
       "      <td>3/12/2019 20:15:29</td>\n",
       "      <td>knu2xs</td>\n",
       "      <td>-121.587674</td>\n",
       "      <td>48.909073</td>\n",
       "    </tr>\n",
       "    <tr>\n",
       "      <th>30</th>\n",
       "      <td>2091</td>\n",
       "      <td>3/12/2019 19:51:32</td>\n",
       "      <td>knu2xs</td>\n",
       "      <td>3/12/2019 19:51:32</td>\n",
       "      <td>knu2xs</td>\n",
       "      <td>-121.840141</td>\n",
       "      <td>46.444181</td>\n",
       "    </tr>\n",
       "    <tr>\n",
       "      <th>82</th>\n",
       "      <td>2146</td>\n",
       "      <td>3/12/2019 20:03:46</td>\n",
       "      <td>knu2xs</td>\n",
       "      <td>3/12/2019 20:03:46</td>\n",
       "      <td>knu2xs</td>\n",
       "      <td>-121.259455</td>\n",
       "      <td>45.716132</td>\n",
       "    </tr>\n",
       "    <tr>\n",
       "      <th>220</th>\n",
       "      <td>3114</td>\n",
       "      <td>3/12/2019 22:12:57</td>\n",
       "      <td>knu2xs</td>\n",
       "      <td>3/12/2019 22:12:57</td>\n",
       "      <td>knu2xs</td>\n",
       "      <td>-121.850657</td>\n",
       "      <td>47.307569</td>\n",
       "    </tr>\n",
       "  </tbody>\n",
       "</table>\n",
       "</div>"
      ],
      "text/plain": [
       "     reach_id        CreationDate Creator            EditDate  Editor  \\\n",
       "325      3585  3/12/2019 22:42:57  knu2xs  3/12/2019 22:42:57  knu2xs   \n",
       "125      2190  3/12/2019 20:15:29  knu2xs  3/12/2019 20:15:29  knu2xs   \n",
       "30       2091  3/12/2019 19:51:32  knu2xs  3/12/2019 19:51:32  knu2xs   \n",
       "82       2146  3/12/2019 20:03:46  knu2xs  3/12/2019 20:03:46  knu2xs   \n",
       "220      3114  3/12/2019 22:12:57  knu2xs  3/12/2019 22:12:57  knu2xs   \n",
       "\n",
       "        coord_x    coord_y  \n",
       "325 -121.501216  47.785591  \n",
       "125 -121.587674  48.909073  \n",
       "30  -121.840141  46.444181  \n",
       "82  -121.259455  45.716132  \n",
       "220 -121.850657  47.307569  "
      ]
     },
     "execution_count": 22,
     "metadata": {},
     "output_type": "execute_result"
    }
   ],
   "source": [
    "df = pd.read_csv(source_csv, index_col=0)\n",
    "df.sample(5)"
   ]
  },
  {
   "cell_type": "markdown",
   "metadata": {},
   "source": [
    "Next, use the `spatial.from_xy` method to create an Esri Geometry for the dataframe. The syntax is "
   ]
  },
  {
   "cell_type": "code",
   "execution_count": 23,
   "metadata": {},
   "outputs": [
    {
     "data": {
      "text/html": [
       "<div>\n",
       "<style scoped>\n",
       "    .dataframe tbody tr th:only-of-type {\n",
       "        vertical-align: middle;\n",
       "    }\n",
       "\n",
       "    .dataframe tbody tr th {\n",
       "        vertical-align: top;\n",
       "    }\n",
       "\n",
       "    .dataframe thead th {\n",
       "        text-align: right;\n",
       "    }\n",
       "</style>\n",
       "<table border=\"1\" class=\"dataframe\">\n",
       "  <thead>\n",
       "    <tr style=\"text-align: right;\">\n",
       "      <th></th>\n",
       "      <th>reach_id</th>\n",
       "      <th>CreationDate</th>\n",
       "      <th>Creator</th>\n",
       "      <th>EditDate</th>\n",
       "      <th>Editor</th>\n",
       "      <th>coord_x</th>\n",
       "      <th>coord_y</th>\n",
       "      <th>SHAPE</th>\n",
       "    </tr>\n",
       "  </thead>\n",
       "  <tbody>\n",
       "    <tr>\n",
       "      <th>135</th>\n",
       "      <td>2200</td>\n",
       "      <td>3/12/2019 20:17:52</td>\n",
       "      <td>knu2xs</td>\n",
       "      <td>3/12/2019 20:17:52</td>\n",
       "      <td>knu2xs</td>\n",
       "      <td>-121.568667</td>\n",
       "      <td>48.218639</td>\n",
       "      <td>{\"x\": -121.56866691199998, \"y\": 48.21863948500...</td>\n",
       "    </tr>\n",
       "    <tr>\n",
       "      <th>215</th>\n",
       "      <td>3070</td>\n",
       "      <td>3/12/2019 22:10:43</td>\n",
       "      <td>knu2xs</td>\n",
       "      <td>3/12/2019 22:10:43</td>\n",
       "      <td>knu2xs</td>\n",
       "      <td>-122.055944</td>\n",
       "      <td>47.132198</td>\n",
       "      <td>{\"x\": -122.055943964, \"y\": 47.13219767300006, ...</td>\n",
       "    </tr>\n",
       "    <tr>\n",
       "      <th>246</th>\n",
       "      <td>3409</td>\n",
       "      <td>3/12/2019 22:29:04</td>\n",
       "      <td>knu2xs</td>\n",
       "      <td>3/12/2019 22:29:04</td>\n",
       "      <td>knu2xs</td>\n",
       "      <td>-121.616531</td>\n",
       "      <td>47.829396</td>\n",
       "      <td>{\"x\": -121.61653076099998, \"y\": 47.82939640800...</td>\n",
       "    </tr>\n",
       "    <tr>\n",
       "      <th>90</th>\n",
       "      <td>2154</td>\n",
       "      <td>3/12/2019 20:05:28</td>\n",
       "      <td>knu2xs</td>\n",
       "      <td>3/12/2019 20:05:28</td>\n",
       "      <td>knu2xs</td>\n",
       "      <td>-121.218183</td>\n",
       "      <td>47.063576</td>\n",
       "      <td>{\"x\": -121.21818345399998, \"y\": 47.06357574800...</td>\n",
       "    </tr>\n",
       "    <tr>\n",
       "      <th>160</th>\n",
       "      <td>2227</td>\n",
       "      <td>3/12/2019 20:23:50</td>\n",
       "      <td>knu2xs</td>\n",
       "      <td>3/12/2019 20:23:50</td>\n",
       "      <td>knu2xs</td>\n",
       "      <td>-124.116808</td>\n",
       "      <td>48.064899</td>\n",
       "      <td>{\"x\": -124.11680756099994, \"y\": 48.06489897900...</td>\n",
       "    </tr>\n",
       "  </tbody>\n",
       "</table>\n",
       "</div>"
      ],
      "text/plain": [
       "     reach_id        CreationDate Creator            EditDate  Editor  \\\n",
       "135      2200  3/12/2019 20:17:52  knu2xs  3/12/2019 20:17:52  knu2xs   \n",
       "215      3070  3/12/2019 22:10:43  knu2xs  3/12/2019 22:10:43  knu2xs   \n",
       "246      3409  3/12/2019 22:29:04  knu2xs  3/12/2019 22:29:04  knu2xs   \n",
       "90       2154  3/12/2019 20:05:28  knu2xs  3/12/2019 20:05:28  knu2xs   \n",
       "160      2227  3/12/2019 20:23:50  knu2xs  3/12/2019 20:23:50  knu2xs   \n",
       "\n",
       "        coord_x    coord_y                                              SHAPE  \n",
       "135 -121.568667  48.218639  {\"x\": -121.56866691199998, \"y\": 48.21863948500...  \n",
       "215 -122.055944  47.132198  {\"x\": -122.055943964, \"y\": 47.13219767300006, ...  \n",
       "246 -121.616531  47.829396  {\"x\": -121.61653076099998, \"y\": 47.82939640800...  \n",
       "90  -121.218183  47.063576  {\"x\": -121.21818345399998, \"y\": 47.06357574800...  \n",
       "160 -124.116808  48.064899  {\"x\": -124.11680756099994, \"y\": 48.06489897900...  "
      ]
     },
     "execution_count": 23,
     "metadata": {},
     "output_type": "execute_result"
    }
   ],
   "source": [
    "sdf = df.spatial.from_xy(df,  'coord_x', 'coord_y')\n",
    "sdf.sample(5)"
   ]
  },
  {
   "cell_type": "markdown",
   "metadata": {},
   "source": [
    "Finally, to validate our data, to ensure it is located where we expect it to be, we can view it in an Esri Map."
   ]
  },
  {
   "cell_type": "code",
   "execution_count": 24,
   "metadata": {},
   "outputs": [
    {
     "data": {
      "application/vnd.jupyter.widget-view+json": {
       "model_id": "ef1708cc4021467ca40d38b4ca0cc8f4",
       "version_major": 2,
       "version_minor": 0
      },
      "text/plain": [
       "MapView(layout=Layout(height='400px', width='100%'))"
      ]
     },
     "metadata": {},
     "output_type": "display_data"
    },
    {
     "data": {
      "text/html": [
       "<div class=\"map-static-img-preview-372a43ce-98b5-4b50-819f-110e31664110\"><img src=\"\"></img></div>"
      ],
      "text/plain": [
       "<IPython.core.display.HTML object>"
      ]
     },
     "metadata": {},
     "output_type": "display_data"
    }
   ],
   "source": [
    "webmap = sdf.spatial.plot()\n",
    "webmap"
   ]
  },
  {
   "cell_type": "markdown",
   "metadata": {},
   "source": [
    "The web map object has quite a few useful properties. Among those is available basemaps. Of those, I am particularly fond of the `dark-gray-vector`."
   ]
  },
  {
   "cell_type": "code",
   "execution_count": 25,
   "metadata": {},
   "outputs": [
    {
     "data": {
      "text/plain": [
       "['dark-gray',\n",
       " 'dark-gray-vector',\n",
       " 'gray',\n",
       " 'gray-vector',\n",
       " 'hybrid',\n",
       " 'national-geographic',\n",
       " 'oceans',\n",
       " 'osm',\n",
       " 'satellite',\n",
       " 'streets',\n",
       " 'streets-navigation-vector',\n",
       " 'streets-night-vector',\n",
       " 'streets-relief-vector',\n",
       " 'streets-vector',\n",
       " 'terrain',\n",
       " 'topo',\n",
       " 'topo-vector']"
      ]
     },
     "execution_count": 25,
     "metadata": {},
     "output_type": "execute_result"
    }
   ],
   "source": [
    "webmap.basemaps"
   ]
  },
  {
   "cell_type": "code",
   "execution_count": 26,
   "metadata": {},
   "outputs": [
    {
     "data": {
      "application/vnd.jupyter.widget-view+json": {
       "model_id": "ef1708cc4021467ca40d38b4ca0cc8f4",
       "version_major": 2,
       "version_minor": 0
      },
      "text/plain": [
       "MapView(jupyter_target='lab', layout=Layout(height='400px', width='100%'), ready=True, zoom=6.0)"
      ]
     },
     "metadata": {},
     "output_type": "display_data"
    },
    {
     "data": {
      "text/html": [
       "<div class=\"map-static-img-preview-372a43ce-98b5-4b50-819f-110e31664110\"><img src=\"\"></img></div>"
      ],
      "text/plain": [
       "<IPython.core.display.HTML object>"
      ]
     },
     "metadata": {},
     "output_type": "display_data"
    }
   ],
   "source": [
    "webmap.basemap = 'dark-gray-vector'\n",
    "webmap"
   ]
  },
  {
   "cell_type": "markdown",
   "metadata": {},
   "source": [
    "## Current State\n",
    "\n",
    "The above workflow will work with the upcoming 1.6.1 release. As of 02Apr2019, in the current release, 1.6.0, you must instantiate the map widget, plot the data on the map, and zoom to the extent."
   ]
  },
  {
   "cell_type": "code",
   "execution_count": 18,
   "metadata": {},
   "outputs": [
    {
     "data": {
      "application/vnd.jupyter.widget-view+json": {
       "model_id": "8d5dc5bae83244ffbe34390021b044e7",
       "version_major": 2,
       "version_minor": 0
      },
      "text/plain": [
       "MapView(layout=Layout(height='400px', width='100%'))"
      ]
     },
     "metadata": {},
     "output_type": "display_data"
    },
    {
     "data": {
      "text/html": [
       "<div class=\"map-static-img-preview-2addc2eb-5698-4bda-a3cc-780503dcb64a\"><img src=\"\"></img></div>"
      ],
      "text/plain": [
       "<IPython.core.display.HTML object>"
      ]
     },
     "metadata": {},
     "output_type": "display_data"
    }
   ],
   "source": [
    "from arcgis.gis import GIS                 # we need the GIS object to create the instacne\n",
    "\n",
    "gis = GIS()                                # connect to Esri to get the required map services\n",
    "webmap = gis.map()                         # create the web map widget\n",
    "sdf.spatial.plot(webmap)                   # plot the Spatially Enabled Dataframe on the web map\n",
    "webmap.extent = sdf.spatial.bbox.extent    # zoom to the extent of the data\n",
    "webmap                                     # show the web map"
   ]
  },
  {
   "cell_type": "code",
   "execution_count": 19,
   "metadata": {},
   "outputs": [],
   "source": [
    "webmap.basemap = 'dark-gray-vector'"
   ]
  },
  {
   "cell_type": "code",
   "execution_count": null,
   "metadata": {},
   "outputs": [],
   "source": []
  }
 ],
 "metadata": {
  "kernelspec": {
   "display_name": "Python 3",
   "language": "python",
   "name": "python3"
  },
  "language_info": {
   "codemirror_mode": {
    "name": "ipython",
    "version": 3
   },
   "file_extension": ".py",
   "mimetype": "text/x-python",
   "name": "python",
   "nbconvert_exporter": "python",
   "pygments_lexer": "ipython3",
   "version": "3.6.7"
  }
 },
 "nbformat": 4,
 "nbformat_minor": 2
}
