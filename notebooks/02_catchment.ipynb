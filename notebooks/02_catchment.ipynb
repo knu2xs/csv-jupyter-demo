{
 "cells": [
  {
   "cell_type": "markdown",
   "metadata": {},
   "source": [
    "# CSV with coordinates to Spatially Enabled Dataframe\n",
    "\n",
    "Especially with field data collection, many times data arrives as a CSV file with sample locations defined as latitude and longitude coordinates in separate fields. Getting this data into a Spatially Enabled Dataframe and checking the results to be able to perform subsequent analysis, is fairly straightforward."
   ]
  },
  {
   "cell_type": "code",
   "execution_count": 13,
   "metadata": {},
   "outputs": [],
   "source": [
    "# minimal module imports\n",
    "from arcgis.features import GeoAccessor, GeoSeriesAccessor\n",
    "import pandas as pd"
   ]
  },
  {
   "cell_type": "code",
   "execution_count": 14,
   "metadata": {},
   "outputs": [],
   "source": [
    "source_csv = '../data/raw/access_putin.csv'"
   ]
  },
  {
   "cell_type": "markdown",
   "metadata": {},
   "source": [
    "This time, we just consolodate it all into one step."
   ]
  },
  {
   "cell_type": "code",
   "execution_count": 15,
   "metadata": {},
   "outputs": [
    {
     "data": {
      "application/vnd.jupyter.widget-view+json": {
       "model_id": "f9b1b8c5f5a44eac85a8073362eab4d5",
       "version_major": 2,
       "version_minor": 0
      },
      "text/plain": [
       "MapView(layout=Layout(height='400px', width='100%'))"
      ]
     },
     "metadata": {},
     "output_type": "display_data"
    },
    {
     "data": {
      "text/html": [
       "<div class=\"map-static-img-preview-a2819db2-c461-43b3-83b6-7950b57d2255\"><img src=\"\"></img></div>"
      ],
      "text/plain": [
       "<IPython.core.display.HTML object>"
      ]
     },
     "metadata": {},
     "output_type": "display_data"
    }
   ],
   "source": [
    "df = pd.read_csv(source_csv, index_col=0)\n",
    "sdf = GeoAccessor.from_xy(df, 'coord_x', 'coord_y')\n",
    "webmap = sdf.spatial.plot()\n",
    "webmap.basemap = 'dark-gray-vector'\n",
    "webmap"
   ]
  },
  {
   "cell_type": "markdown",
   "metadata": {},
   "source": [
    "ArcGIS provides a [multitude of useful services](https://developers.arcgis.com/rest/location-based-services/) [available through the Python API](https://esri.github.io/arcgis-python-api/apidoc/html/arcgis.features.toc.html#submodules) to quickly add geograhpic context to your data as part of your data preperation. Among these is the abilty to [trace hydrology flowlines](https://developers.arcgis.com/rest/elevation/api-reference/trace-downstream.htm) and [watersheds](https://developers.arcgis.com/rest/elevation/api-reference/watershed.htm) anywhere in the world. While it does require a valid ArcGIS login (which you can get with a [free developer account](https://developers.arcgis.com/pricing/) for nonprofit use), it is free to use."
   ]
  },
  {
   "cell_type": "code",
   "execution_count": 16,
   "metadata": {},
   "outputs": [],
   "source": [
    "# get the needed modules\n",
    "from arcgis.gis import GIS\n",
    "from arcgis.features import hydrology\n",
    "\n",
    "# grab the ArcGIS credentials in the config file - this is just the way I do it\n",
    "import sys\n",
    "sys.path.append('../src')\n",
    "import config"
   ]
  },
  {
   "cell_type": "code",
   "execution_count": 17,
   "metadata": {},
   "outputs": [
    {
     "data": {
      "text/html": [
       "GIS @ <a href=\"https://geoai.maps.arcgis.com\">https://geoai.maps.arcgis.com</a>"
      ],
      "text/plain": [
       "GIS @ https://geoai.maps.arcgis.com version:7.1"
      ]
     },
     "execution_count": 17,
     "metadata": {},
     "output_type": "execute_result"
    }
   ],
   "source": [
    "# create a connection to ArcGIS Online\n",
    "gis = GIS(config.arcgis.url, username=config.arcgis.username, password=config.arcgis.password)\n",
    "gis"
   ]
  },
  {
   "cell_type": "markdown",
   "metadata": {},
   "source": [
    "Just to speed up the process, we create a dataframe with a very limited set of records."
   ]
  },
  {
   "cell_type": "code",
   "execution_count": 18,
   "metadata": {},
   "outputs": [
    {
     "data": {
      "text/html": [
       "<div>\n",
       "<style scoped>\n",
       "    .dataframe tbody tr th:only-of-type {\n",
       "        vertical-align: middle;\n",
       "    }\n",
       "\n",
       "    .dataframe tbody tr th {\n",
       "        vertical-align: top;\n",
       "    }\n",
       "\n",
       "    .dataframe thead th {\n",
       "        text-align: right;\n",
       "    }\n",
       "</style>\n",
       "<table border=\"1\" class=\"dataframe\">\n",
       "  <thead>\n",
       "    <tr style=\"text-align: right;\">\n",
       "      <th></th>\n",
       "      <th>reach_id</th>\n",
       "      <th>CreationDate</th>\n",
       "      <th>Creator</th>\n",
       "      <th>EditDate</th>\n",
       "      <th>Editor</th>\n",
       "      <th>coord_x</th>\n",
       "      <th>coord_y</th>\n",
       "      <th>SHAPE</th>\n",
       "    </tr>\n",
       "  </thead>\n",
       "  <tbody>\n",
       "    <tr>\n",
       "      <th>143</th>\n",
       "      <td>2208</td>\n",
       "      <td>3/12/2019 20:19:35</td>\n",
       "      <td>knu2xs</td>\n",
       "      <td>3/12/2019 20:19:35</td>\n",
       "      <td>knu2xs</td>\n",
       "      <td>-123.311162</td>\n",
       "      <td>47.403101</td>\n",
       "      <td>{\"x\": -123.31116208999998, \"y\": 47.40310066600...</td>\n",
       "    </tr>\n",
       "  </tbody>\n",
       "</table>\n",
       "</div>"
      ],
      "text/plain": [
       "     reach_id        CreationDate Creator            EditDate  Editor  \\\n",
       "143      2208  3/12/2019 20:19:35  knu2xs  3/12/2019 20:19:35  knu2xs   \n",
       "\n",
       "        coord_x    coord_y                                              SHAPE  \n",
       "143 -123.311162  47.403101  {\"x\": -123.31116208999998, \"y\": 47.40310066600...  "
      ]
     },
     "execution_count": 18,
     "metadata": {},
     "output_type": "execute_result"
    }
   ],
   "source": [
    "reach_ex = sdf[sdf.reach_id == 2208].copy()\n",
    "reach_ex"
   ]
  },
  {
   "cell_type": "code",
   "execution_count": 19,
   "metadata": {},
   "outputs": [
    {
     "data": {
      "text/plain": [
       "ToolOutput(watershed_area=<FeatureSet> 1 features, snapped_points=<FeatureSet> 1 features)"
      ]
     },
     "execution_count": 19,
     "metadata": {},
     "output_type": "execute_result"
    }
   ],
   "source": [
    "resp_wtrshd = hydrology.watershed(reach_ex, point_id_field='reach_id', snap_distance=500)\n",
    "resp_wtrshd"
   ]
  },
  {
   "cell_type": "code",
   "execution_count": 20,
   "metadata": {},
   "outputs": [
    {
     "data": {
      "text/html": [
       "<div>\n",
       "<style scoped>\n",
       "    .dataframe tbody tr th:only-of-type {\n",
       "        vertical-align: middle;\n",
       "    }\n",
       "\n",
       "    .dataframe tbody tr th {\n",
       "        vertical-align: top;\n",
       "    }\n",
       "\n",
       "    .dataframe thead th {\n",
       "        text-align: right;\n",
       "    }\n",
       "</style>\n",
       "<table border=\"1\" class=\"dataframe\">\n",
       "  <thead>\n",
       "    <tr style=\"text-align: right;\">\n",
       "      <th></th>\n",
       "      <th>AreaSqKm</th>\n",
       "      <th>DataResolution</th>\n",
       "      <th>Description</th>\n",
       "      <th>OBJECTID</th>\n",
       "      <th>PourPtID</th>\n",
       "      <th>SHAPE</th>\n",
       "      <th>Shape_Area</th>\n",
       "      <th>Shape_Length</th>\n",
       "    </tr>\n",
       "  </thead>\n",
       "  <tbody>\n",
       "    <tr>\n",
       "      <th>0</th>\n",
       "      <td>158.537473</td>\n",
       "      <td>0.000832999998238</td>\n",
       "      <td>HydroSHEDS 90m</td>\n",
       "      <td>1</td>\n",
       "      <td>2208</td>\n",
       "      <td>{\"rings\": [[[-123.32166666628359, 47.392500000...</td>\n",
       "      <td>0.01891</td>\n",
       "      <td>1.041667</td>\n",
       "    </tr>\n",
       "  </tbody>\n",
       "</table>\n",
       "</div>"
      ],
      "text/plain": [
       "     AreaSqKm     DataResolution     Description  OBJECTID  PourPtID  \\\n",
       "0  158.537473  0.000832999998238  HydroSHEDS 90m         1      2208   \n",
       "\n",
       "                                               SHAPE  Shape_Area  Shape_Length  \n",
       "0  {\"rings\": [[[-123.32166666628359, 47.392500000...     0.01891      1.041667  "
      ]
     },
     "execution_count": 20,
     "metadata": {},
     "output_type": "execute_result"
    }
   ],
   "source": [
    "resp_wtrshd.watershed_area.sdf"
   ]
  },
  {
   "cell_type": "code",
   "execution_count": 21,
   "metadata": {},
   "outputs": [
    {
     "data": {
      "text/html": [
       "<div>\n",
       "<style scoped>\n",
       "    .dataframe tbody tr th:only-of-type {\n",
       "        vertical-align: middle;\n",
       "    }\n",
       "\n",
       "    .dataframe tbody tr th {\n",
       "        vertical-align: top;\n",
       "    }\n",
       "\n",
       "    .dataframe thead th {\n",
       "        text-align: right;\n",
       "    }\n",
       "</style>\n",
       "<table border=\"1\" class=\"dataframe\">\n",
       "  <thead>\n",
       "    <tr style=\"text-align: right;\">\n",
       "      <th></th>\n",
       "      <th>OBJECTID</th>\n",
       "      <th>PourPtID</th>\n",
       "      <th>SHAPE</th>\n",
       "    </tr>\n",
       "  </thead>\n",
       "  <tbody>\n",
       "    <tr>\n",
       "      <th>0</th>\n",
       "      <td>1</td>\n",
       "      <td>2208</td>\n",
       "      <td>{\"x\": -123.3120833333333, \"y\": 47.398750000001...</td>\n",
       "    </tr>\n",
       "  </tbody>\n",
       "</table>\n",
       "</div>"
      ],
      "text/plain": [
       "   OBJECTID  PourPtID                                              SHAPE\n",
       "0         1      2208  {\"x\": -123.3120833333333, \"y\": 47.398750000001..."
      ]
     },
     "execution_count": 21,
     "metadata": {},
     "output_type": "execute_result"
    }
   ],
   "source": [
    "resp_wtrshd.snapped_points.sdf"
   ]
  },
  {
   "cell_type": "code",
   "execution_count": 22,
   "metadata": {},
   "outputs": [
    {
     "data": {
      "application/vnd.jupyter.widget-view+json": {
       "model_id": "f6841c38a7cf4e3cb8700accfd7800fb",
       "version_major": 2,
       "version_minor": 0
      },
      "text/plain": [
       "MapView(layout=Layout(height='400px', width='100%'))"
      ]
     },
     "metadata": {},
     "output_type": "display_data"
    },
    {
     "data": {
      "text/html": [
       "<div class=\"map-static-img-preview-194111f5-e11f-4f10-972b-a4ca0d86a61f\"><img src=\"\"></img></div>"
      ],
      "text/plain": [
       "<IPython.core.display.HTML object>"
      ]
     },
     "metadata": {},
     "output_type": "display_data"
    }
   ],
   "source": [
    "resp_map = resp_wtrshd.watershed_area.sdf.spatial.plot()\n",
    "resp_map"
   ]
  },
  {
   "cell_type": "code",
   "execution_count": 23,
   "metadata": {},
   "outputs": [],
   "source": [
    "resp_map.add_layer(resp_wtrshd.snapped_points.sdf.spatial.to_featureset())"
   ]
  },
  {
   "cell_type": "code",
   "execution_count": null,
   "metadata": {},
   "outputs": [],
   "source": []
  }
 ],
 "metadata": {
  "kernelspec": {
   "display_name": "Python 3",
   "language": "python",
   "name": "python3"
  },
  "language_info": {
   "codemirror_mode": {
    "name": "ipython",
    "version": 3
   },
   "file_extension": ".py",
   "mimetype": "text/x-python",
   "name": "python",
   "nbconvert_exporter": "python",
   "pygments_lexer": "ipython3",
   "version": "3.6.7"
  }
 },
 "nbformat": 4,
 "nbformat_minor": 2
}
